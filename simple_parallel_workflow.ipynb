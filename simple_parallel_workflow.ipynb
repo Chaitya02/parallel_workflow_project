{
 "cells": [
  {
   "cell_type": "markdown",
   "id": "0ad8d27f",
   "metadata": {},
   "source": [
    "### Imports"
   ]
  },
  {
   "cell_type": "code",
   "execution_count": 1,
   "id": "f686a2f5",
   "metadata": {},
   "outputs": [],
   "source": [
    "from langgraph.graph import StateGraph, START, END\n",
    "from typing import TypedDict"
   ]
  },
  {
   "cell_type": "markdown",
   "id": "202be4ed",
   "metadata": {},
   "source": [
    "### State"
   ]
  },
  {
   "cell_type": "code",
   "execution_count": 2,
   "id": "54412375",
   "metadata": {},
   "outputs": [],
   "source": [
    "class CricketerState(TypedDict):\n",
    "    runs: int\n",
    "    balls: int\n",
    "    fours: int\n",
    "    sixes: int\n",
    "    boundry_percentage: float\n",
    "    balls_per_boundry: float\n",
    "    strike_rate: float\n",
    "    summary: str"
   ]
  },
  {
   "cell_type": "markdown",
   "id": "124f3ce1",
   "metadata": {},
   "source": [
    "### Node Functions"
   ]
  },
  {
   "cell_type": "code",
   "execution_count": 3,
   "id": "0520457f",
   "metadata": {},
   "outputs": [],
   "source": [
    "def calculate_boundry_percentage(state: CricketerState) -> CricketerState:\n",
    "    boundry_percentage = state['fours'] * 4 + state['sixes'] * 6 / state['runs'] * 100\n",
    "    return {\"boundry_percentage\": boundry_percentage}"
   ]
  },
  {
   "cell_type": "code",
   "execution_count": 4,
   "id": "498ee1c4",
   "metadata": {},
   "outputs": [],
   "source": [
    "def calculate_balls_per_boundry(state: CricketerState) -> CricketerState:\n",
    "    balls_per_boundry = state['balls'] / (state['fours'] + state['sixes'])\n",
    "    return {\"balls_per_boundry\": balls_per_boundry}"
   ]
  },
  {
   "cell_type": "code",
   "execution_count": 5,
   "id": "68eec847",
   "metadata": {},
   "outputs": [],
   "source": [
    "def calaulate_strike_rate(state: CricketerState) -> CricketerState:\n",
    "    strike_rate = (state['runs'] / state['balls']) * 100\n",
    "    return {\"strike_rate\": strike_rate}"
   ]
  },
  {
   "cell_type": "code",
   "execution_count": 6,
   "id": "881925eb",
   "metadata": {},
   "outputs": [],
   "source": [
    "def summary(state: CricketerState) -> CricketerState:\n",
    "    state['summary'] = (\n",
    "        f\"Runs: {state['runs']}, Balls: {state['balls']}, \"\n",
    "        f\"Fours: {state['fours']}, Sixes: {state['sixes']}, \"\n",
    "        f\"Boundry Percentage: {state['boundry_percentage']:.2f}%, \"\n",
    "        f\"Balls per Boundry: {state['balls_per_boundry']:.2f}, \"\n",
    "        f\"Strike Rate: {state['strike_rate']:.2f}\"\n",
    "    )\n",
    "    return state"
   ]
  },
  {
   "cell_type": "markdown",
   "id": "742db17f",
   "metadata": {},
   "source": [
    "### Define Graph"
   ]
  },
  {
   "cell_type": "code",
   "execution_count": 7,
   "id": "b27342a7",
   "metadata": {},
   "outputs": [],
   "source": [
    "graph = StateGraph(CricketerState)"
   ]
  },
  {
   "cell_type": "markdown",
   "id": "5618705c",
   "metadata": {},
   "source": [
    "### Add Nodes"
   ]
  },
  {
   "cell_type": "code",
   "execution_count": 8,
   "id": "e7835dd3",
   "metadata": {},
   "outputs": [
    {
     "data": {
      "text/plain": [
       "<langgraph.graph.state.StateGraph at 0x10b8ea660>"
      ]
     },
     "execution_count": 8,
     "metadata": {},
     "output_type": "execute_result"
    }
   ],
   "source": [
    "graph.add_node(\"calculate_boundry_percentage\", calculate_boundry_percentage)\n",
    "graph.add_node(\"calculate_balls_per_boundry\", calculate_balls_per_boundry)\n",
    "graph.add_node(\"calaulate_strike_rate\", calaulate_strike_rate)\n",
    "graph.add_node(\"summary\", summary)"
   ]
  },
  {
   "cell_type": "markdown",
   "id": "60760db5",
   "metadata": {},
   "source": [
    "### Add Edges"
   ]
  },
  {
   "cell_type": "code",
   "execution_count": 9,
   "id": "2e6587bf",
   "metadata": {},
   "outputs": [
    {
     "data": {
      "text/plain": [
       "<langgraph.graph.state.StateGraph at 0x10b8ea660>"
      ]
     },
     "execution_count": 9,
     "metadata": {},
     "output_type": "execute_result"
    }
   ],
   "source": [
    "graph.add_edge(START, \"calculate_boundry_percentage\")\n",
    "graph.add_edge(START, \"calculate_balls_per_boundry\")\n",
    "graph.add_edge(START, \"calaulate_strike_rate\")\n",
    "\n",
    "graph.add_edge(\"calculate_boundry_percentage\", \"summary\")\n",
    "graph.add_edge(\"calculate_balls_per_boundry\", \"summary\")\n",
    "graph.add_edge(\"calaulate_strike_rate\", \"summary\")\n",
    "\n",
    "graph.add_edge(\"summary\", END)"
   ]
  },
  {
   "cell_type": "markdown",
   "id": "8a7895d0",
   "metadata": {},
   "source": [
    "### Compile Graph"
   ]
  },
  {
   "cell_type": "code",
   "execution_count": 10,
   "id": "360d6984",
   "metadata": {},
   "outputs": [],
   "source": [
    "workflow = graph.compile()"
   ]
  },
  {
   "cell_type": "code",
   "execution_count": 11,
   "id": "f14aa987",
   "metadata": {},
   "outputs": [
    {
     "data": {
      "image/png": "[encoded data removed]",
      "text/plain": [
       "<IPython.core.display.Image object>"
      ]
     },
     "execution_count": 11,
     "metadata": {},
     "output_type": "execute_result"
    }
   ],
   "source": [
    "from IPython.display import Image\n",
    "Image(workflow.get_graph().draw_mermaid_png())"
   ]
  },
  {
   "cell_type": "code",
   "execution_count": 12,
   "id": "5f26b696",
   "metadata": {},
   "outputs": [],
   "source": [
    "initial_state = {\n",
    "    \"runs\": 100,\n",
    "    \"balls\": 50,\n",
    "    \"fours\": 6,\n",
    "    \"sixes\": 4\n",
    "}"
   ]
  },
  {
   "cell_type": "code",
   "execution_count": 13,
   "id": "6d31fa77",
   "metadata": {},
   "outputs": [
    {
     "data": {
      "text/plain": [
       "{'runs': 100,\n",
       " 'balls': 50,\n",
       " 'fours': 6,\n",
       " 'sixes': 4,\n",
       " 'boundry_percentage': 48.0,\n",
       " 'balls_per_boundry': 5.0,\n",
       " 'strike_rate': 200.0,\n",
       " 'summary': 'Runs: 100, Balls: 50, Fours: 6, Sixes: 4, Boundry Percentage: 48.00%, Balls per Boundry: 5.00, Strike Rate: 200.00'}"
      ]
     },
     "execution_count": 13,
     "metadata": {},
     "output_type": "execute_result"
    }
   ],
   "source": [
    "workflow.invoke(initial_state)"
   ]
  },
  {
   "cell_type": "code",
   "execution_count": null,
   "id": "d5a6e674",
   "metadata": {},
   "outputs": [],
   "source": []
  }
 ],
 "metadata": {
  "kernelspec": {
   "display_name": ".venv",
   "language": "python",
   "name": "python3"
  },
  "language_info": {
   "codemirror_mode": {
    "name": "ipython",
    "version": 3
   },
   "file_extension": ".py",
   "mimetype": "text/x-python",
   "name": "python",
   "nbconvert_exporter": "python",
   "pygments_lexer": "ipython3",
   "version": "3.13.5"
  }
 },
 "nbformat": 4,
 "nbformat_minor": 5
}
