{
 "cells": [
  {
   "cell_type": "markdown",
   "id": "fd73ab98",
   "metadata": {},
   "source": [
    "### Imports"
   ]
  },
  {
   "cell_type": "code",
   "execution_count": 1,
   "id": "7bfa3b9f",
   "metadata": {},
   "outputs": [],
   "source": [
    "from langgraph.graph import StateGraph, START, END\n",
    "from langchain_google_genai import ChatGoogleGenerativeAI\n",
    "from pydantic import BaseModel, Field\n",
    "from dotenv import load_dotenv\n",
    "from typing import TypedDict, Annotated\n",
    "import operator"
   ]
  },
  {
   "cell_type": "code",
   "execution_count": 2,
   "id": "c34922ea",
   "metadata": {},
   "outputs": [
    {
     "data": {
      "text/plain": [
       "True"
      ]
     },
     "execution_count": 2,
     "metadata": {},
     "output_type": "execute_result"
    }
   ],
   "source": [
    "load_dotenv()"
   ]
  },
  {
   "cell_type": "markdown",
   "id": "c9642f2f",
   "metadata": {},
   "source": [
    "### LLM"
   ]
  },
  {
   "cell_type": "code",
   "execution_count": 3,
   "id": "c7a1aa15",
   "metadata": {},
   "outputs": [],
   "source": [
    "model = ChatGoogleGenerativeAI(model=\"gemini-2.5-flash\")"
   ]
  },
  {
   "cell_type": "code",
   "execution_count": 4,
   "id": "755c6376",
   "metadata": {},
   "outputs": [],
   "source": [
    "class EvaluationSchema(BaseModel):\n",
    "    feedback: str = Field(..., description=\"Feedback on the essay\")\n",
    "    score: float = Field(..., description=\"Score for the essay (1-10)\", ge=0, le=10)"
   ]
  },
  {
   "cell_type": "code",
   "execution_count": 5,
   "id": "69674e34",
   "metadata": {},
   "outputs": [],
   "source": [
    "structured_model = model.with_structured_output(EvaluationSchema)"
   ]
  },
  {
   "cell_type": "code",
   "execution_count": 6,
   "id": "0c298d72",
   "metadata": {},
   "outputs": [],
   "source": [
    "essay = \"\"\"The Double-Edged Sword of Technology: Progress or Problem?\n",
    "\n",
    "In the last few decades, technology has transformed the world at an astonishing pace. From smartphones to self-driving cars, digital payments to artificial intelligence, our lives have become more efficient, connected, and convenient. However, beneath this wave of progress lies a more complex reality—technology is not just a tool for improvement; it's a force that reshapes how we live, think, and interact.\n",
    "\n",
    "At first glance, the benefits are undeniable. Access to education has widened through online platforms. Healthcare has improved with telemedicine and predictive diagnostics. Work has become more flexible, allowing people to collaborate across continents. But with these advancements come significant concerns: digital addiction, privacy erosion, and widening inequality between those who can afford to stay ahead and those who cannot.\n",
    "\n",
    "Consider social media—a brilliant invention to connect people. Yet today, many users report feeling more isolated, anxious, or addicted. Algorithms designed to personalize our experience often end up trapping us in echo chambers, reinforcing biases rather than expanding understanding.\n",
    "\n",
    "Furthermore, the automation of jobs raises ethical and economic questions. While machines can handle repetitive tasks better than humans, what happens to the millions whose skills become obsolete? Are we preparing society for that shift, or just racing ahead without a plan?\n",
    "\n",
    "The challenge, therefore, is not to slow down innovation but to guide it. We need technology that empowers, not overwhelms. That means developing policies that protect individual rights, investing in digital education for all, and designing systems that prioritize human well-being over profit.\n",
    "\n",
    "In the end, technology is neither good nor bad—it reflects the intentions of those who wield it. The future we create will depend not just on what we build, but why and how we build it.\"\"\""
   ]
  },
  {
   "cell_type": "code",
   "execution_count": 7,
   "id": "50084a9f",
   "metadata": {},
   "outputs": [
    {
     "data": {
      "text/plain": [
       "EvaluationSchema(feedback='The essay demonstrates excellent language quality. It is clear, concise, and well-structured, effectively using sophisticated vocabulary to articulate complex ideas. The arguments flow logically, and the sentence structures are varied and engaging. There are no significant grammatical errors, making the essay highly readable and persuasive.', score=9.0)"
      ]
     },
     "execution_count": 7,
     "metadata": {},
     "output_type": "execute_result"
    }
   ],
   "source": [
    "prompt = f\"Evaluate the language quality of the essay and provide feedback and assign a score out of 10.\\n{essay}\"\n",
    "structured_model.invoke(prompt)"
   ]
  },
  {
   "cell_type": "markdown",
   "id": "1fdea8af",
   "metadata": {},
   "source": [
    "### State"
   ]
  },
  {
   "cell_type": "code",
   "execution_count": 8,
   "id": "75c80d3d",
   "metadata": {},
   "outputs": [],
   "source": [
    "class EssayState(TypedDict):\n",
    "    essay: str\n",
    "\n",
    "    clarity_of_thought: str\n",
    "    depth_of_analysis: str\n",
    "    language_and_style: str\n",
    "    overall_feedback: str\n",
    "    scores: Annotated[list[float], operator.add]\n",
    "    overall_score: float"
   ]
  },
  {
   "cell_type": "markdown",
   "id": "c550ac75",
   "metadata": {},
   "source": [
    "### Node Functions"
   ]
  },
  {
   "cell_type": "code",
   "execution_count": 9,
   "id": "d4e4c8c2",
   "metadata": {},
   "outputs": [],
   "source": [
    "def evaluate_calrity(state: EssayState) -> EssayState:\n",
    "    clarity_of_thought = structured_model.invoke(\n",
    "        f\"Evaluate the clarity of thought in the essay and provide feedback and assign a score out of 10.\\n{state['essay']}\"\n",
    "    )\n",
    "    return {\n",
    "        \"clarity_of_thought\": clarity_of_thought.feedback,\n",
    "        \"scores\": [clarity_of_thought.score]\n",
    "    }"
   ]
  },
  {
   "cell_type": "code",
   "execution_count": 10,
   "id": "1ffca686",
   "metadata": {},
   "outputs": [],
   "source": [
    "def evaluate_depth(state: EssayState) -> EssayState:\n",
    "    depth_of_analysis = structured_model.invoke(\n",
    "        f\"Evaluate the depth of analysis in the essay and provide feedback and assign a score out of 10.\\n{state['essay']}\"\n",
    "    )\n",
    "    return {\n",
    "        \"depth_of_analysis\": depth_of_analysis.feedback,\n",
    "        \"scores\": [depth_of_analysis.score]\n",
    "    }"
   ]
  },
  {
   "cell_type": "code",
   "execution_count": 11,
   "id": "09736702",
   "metadata": {},
   "outputs": [],
   "source": [
    "def evaluate_language(state: EssayState) -> EssayState:\n",
    "    language_and_style = structured_model.invoke(\n",
    "        f\"Evaluate the language and style in the essay and provide feedback and assign a score out of 10.\\n{state['essay']}\"\n",
    "    )\n",
    "    return {\n",
    "        \"language_and_style\": language_and_style.feedback,\n",
    "        \"scores\": [language_and_style.score]\n",
    "    }"
   ]
  },
  {
   "cell_type": "code",
   "execution_count": 12,
   "id": "0b5cae3e",
   "metadata": {},
   "outputs": [],
   "source": [
    "def evaluate_overall(state: EssayState) -> EssayState:\n",
    "    overall_feedback = model.invoke(\n",
    "        f\"Based on the essay feedbacks provide feedback summary.\\nClarity of Thought feedback: {state['clarity_of_thought']}\\nDepth of Analysis feedback: {state['depth_of_analysis']}\\nLanguage and Style feedback: {state['language_and_style']}\"\n",
    "    )\n",
    "    return {\n",
    "        \"overall_feedback\": overall_feedback.content,\n",
    "        \"overall_score\": sum(state['scores']) / len(state['scores'])\n",
    "    }"
   ]
  },
  {
   "cell_type": "markdown",
   "id": "1b1da9c4",
   "metadata": {},
   "source": [
    "### Define Graph"
   ]
  },
  {
   "cell_type": "code",
   "execution_count": 13,
   "id": "dfd218fa",
   "metadata": {},
   "outputs": [],
   "source": [
    "graph = StateGraph(EssayState)"
   ]
  },
  {
   "cell_type": "markdown",
   "id": "6e999722",
   "metadata": {},
   "source": [
    "### Add Nodes"
   ]
  },
  {
   "cell_type": "code",
   "execution_count": 14,
   "id": "6e95a7c3",
   "metadata": {},
   "outputs": [
    {
     "data": {
      "text/plain": [
       "<langgraph.graph.state.StateGraph at 0x10ec28590>"
      ]
     },
     "execution_count": 14,
     "metadata": {},
     "output_type": "execute_result"
    }
   ],
   "source": [
    "graph.add_node(\"evaluate_calrity\", evaluate_calrity)\n",
    "graph.add_node(\"evaluate_depth\", evaluate_depth)\n",
    "graph.add_node(\"evaluate_language\", evaluate_language)\n",
    "graph.add_node(\"evaluate_overall\", evaluate_overall)"
   ]
  },
  {
   "cell_type": "markdown",
   "id": "44552ac4",
   "metadata": {},
   "source": [
    "### Add Edges"
   ]
  },
  {
   "cell_type": "code",
   "execution_count": 15,
   "id": "baa9b578",
   "metadata": {},
   "outputs": [
    {
     "data": {
      "text/plain": [
       "<langgraph.graph.state.StateGraph at 0x10ec28590>"
      ]
     },
     "execution_count": 15,
     "metadata": {},
     "output_type": "execute_result"
    }
   ],
   "source": [
    "graph.add_edge(START, \"evaluate_calrity\")\n",
    "graph.add_edge(START, \"evaluate_depth\")\n",
    "graph.add_edge(START, \"evaluate_language\")\n",
    "\n",
    "graph.add_edge(\"evaluate_calrity\", \"evaluate_overall\")\n",
    "graph.add_edge(\"evaluate_depth\", \"evaluate_overall\")\n",
    "graph.add_edge(\"evaluate_language\", \"evaluate_overall\")\n",
    "\n",
    "graph.add_edge(\"evaluate_overall\", END)"
   ]
  },
  {
   "cell_type": "markdown",
   "id": "55bf728e",
   "metadata": {},
   "source": [
    "### Compile Graph"
   ]
  },
  {
   "cell_type": "code",
   "execution_count": 16,
   "id": "55c1013c",
   "metadata": {},
   "outputs": [],
   "source": [
    "workflow = graph.compile()"
   ]
  },
  {
   "cell_type": "markdown",
   "id": "d316b3d3",
   "metadata": {},
   "source": [
    "### Run"
   ]
  },
  {
   "cell_type": "code",
   "execution_count": 17,
   "id": "6b0ea0d7",
   "metadata": {},
   "outputs": [
    {
     "data": {
      "text/plain": [
       "{'essay': \"The Double-Edged Sword of Technology: Progress or Problem?\\n\\nIn the last few decades, technology has transformed the world at an astonishing pace. From smartphones to self-driving cars, digital payments to artificial intelligence, our lives have become more efficient, connected, and convenient. However, beneath this wave of progress lies a more complex reality—technology is not just a tool for improvement; it's a force that reshapes how we live, think, and interact.\\n\\nAt first glance, the benefits are undeniable. Access to education has widened through online platforms. Healthcare has improved with telemedicine and predictive diagnostics. Work has become more flexible, allowing people to collaborate across continents. But with these advancements come significant concerns: digital addiction, privacy erosion, and widening inequality between those who can afford to stay ahead and those who cannot.\\n\\nConsider social media—a brilliant invention to connect people. Yet today, many users report feeling more isolated, anxious, or addicted. Algorithms designed to personalize our experience often end up trapping us in echo chambers, reinforcing biases rather than expanding understanding.\\n\\nFurthermore, the automation of jobs raises ethical and economic questions. While machines can handle repetitive tasks better than humans, what happens to the millions whose skills become obsolete? Are we preparing society for that shift, or just racing ahead without a plan?\\n\\nThe challenge, therefore, is not to slow down innovation but to guide it. We need technology that empowers, not overwhelms. That means developing policies that protect individual rights, investing in digital education for all, and designing systems that prioritize human well-being over profit.\\n\\nIn the end, technology is neither good nor bad—it reflects the intentions of those who wield it. The future we create will depend not just on what we build, but why and how we build it.\",\n",
       " 'clarity_of_thought': 'The essay demonstrates excellent clarity of thought. The argument regarding technology as a double-edged sword is well-articulated and easy to follow. The use of specific examples like social media and job automation effectively illustrates the complexities. The structure is logical, moving seamlessly from outlining the problem to suggesting a balanced approach for the future.',\n",
       " 'depth_of_analysis': \"The essay demonstrates a strong depth of analysis by effectively exploring the multifaceted nature of technology, presenting both its benefits and significant concerns. It uses relevant and specific examples, such as social media's impact on mental well-being and the ethical implications of job automation, to illustrate its points. The essay also moves beyond mere identification of problems to suggest actionable guidance for innovation, which adds to its analytical depth.\",\n",
       " 'language_and_style': \"The essay demonstrates excellent command of language and a clear, engaging style. The introduction effectively sets the stage for a balanced exploration of technology's impact. The arguments are well-structured, moving logically from benefits to concerns, and supported by relevant examples like social media and job automation. The use of rhetorical questions is effective in prompting reflection. The conclusion provides a thoughtful summary and a forward-looking perspective. To elevate it further, one could consider incorporating more specific, perhaps less common, examples or statistics to bolster certain points, but overall, it's a highly articulate and insightful piece.\",\n",
       " 'overall_feedback': \"This essay demonstrates exceptional quality across all evaluated areas.\\n\\n**Overall Summary:**\\n\\nThe essay is a **highly articulate, insightful, and well-structured** piece that effectively explores the complex subject of technology as a double-edged sword. It showcases a sophisticated understanding, presenting a balanced perspective with strong analytical depth and clear, engaging language.\\n\\n**Key Strengths:**\\n\\n*   **Exceptional Clarity and Logical Structure:** The argument is remarkably well-articulated and easy to follow, with a seamless and logical flow from outlining the problem to suggesting solutions.\\n*   **Strong Depth of Analysis:** The essay effectively explores the multifaceted nature of technology, presenting both benefits and significant concerns. It moves beyond mere problem identification to suggest actionable guidance for innovation, demonstrating a profound understanding.\\n*   **Command of Language and Engaging Style:** The writing is clear, engaging, and demonstrates excellent command of language. The introduction effectively sets the stage, arguments are well-structured, and the use of rhetorical questions is effective in prompting reflection. The conclusion is thoughtful and forward-looking.\\n*   **Effective Use of Examples:** Throughout the essay, relevant and specific examples (like social media's impact and job automation) are consistently used to illustrate points and bolster arguments.\\n\\n**Area for Further Enhancement (Minor Suggestion):**\\n\\n*   While already strong, incorporating more specific, perhaps less common, examples or statistics could further bolster certain points and add an additional layer of depth.\\n\\nIn essence, this is a highly commendable essay that excels in presenting a clear, deeply analyzed, and beautifully written argument.\",\n",
       " 'scores': [9.0, 9.0, 8.5],\n",
       " 'overall_score': 8.833333333333334}"
      ]
     },
     "execution_count": 17,
     "metadata": {},
     "output_type": "execute_result"
    }
   ],
   "source": [
    "workflow.invoke({\"essay\": essay})"
   ]
  },
  {
   "cell_type": "code",
   "execution_count": 18,
   "id": "f17d5655",
   "metadata": {},
   "outputs": [
    {
     "data": {
      "image/png": "[encoded data removed]",
      "text/plain": [
       "<IPython.core.display.Image object>"
      ]
     },
     "execution_count": 18,
     "metadata": {},
     "output_type": "execute_result"
    }
   ],
   "source": [
    "from IPython.display import Image\n",
    "Image(workflow.get_graph().draw_mermaid_png())"
   ]
  },
  {
   "cell_type": "code",
   "execution_count": null,
   "id": "924b6cf0",
   "metadata": {},
   "outputs": [],
   "source": []
  }
 ],
 "metadata": {
  "kernelspec": {
   "display_name": ".venv",
   "language": "python",
   "name": "python3"
  },
  "language_info": {
   "codemirror_mode": {
    "name": "ipython",
    "version": 3
   },
   "file_extension": ".py",
   "mimetype": "text/x-python",
   "name": "python",
   "nbconvert_exporter": "python",
   "pygments_lexer": "ipython3",
   "version": "3.13.5"
  }
 },
 "nbformat": 4,
 "nbformat_minor": 5
}
